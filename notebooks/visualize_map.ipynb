{
 "cells": [
  {
   "cell_type": "code",
   "execution_count": 1,
   "id": "55e8d082",
   "metadata": {},
   "outputs": [],
   "source": [
    "import os, sys\n",
    "# notebooks/에서 한 단계 위로 올라간 폴더를 PATH에 추가\n",
    "project_root = os.path.abspath(os.path.join(os.getcwd(), '..'))\n",
    "if project_root not in sys.path:\n",
    "    sys.path.insert(0, project_root)"
   ]
  },
  {
   "cell_type": "markdown",
   "id": "7a2e1830",
   "metadata": {},
   "source": [
    "# Map 시각화"
   ]
  },
  {
   "cell_type": "code",
   "execution_count": 8,
   "id": "ddc98b9f",
   "metadata": {},
   "outputs": [
    {
     "name": "stdout",
     "output_type": "stream",
     "text": [
      "Start: (np.int64(7), np.int64(3)) Goal: (7, 1)\n"
     ]
    },
    {
     "data": {
      "text/plain": [
       "(np.float64(-0.5), np.float64(287.5), np.float64(287.5), np.float64(-0.5))"
      ]
     },
     "execution_count": 8,
     "metadata": {},
     "output_type": "execute_result"
    },
    {
     "data": {
      "image/png": "[encoded data removed]",
      "text/plain": [
       "<Figure size 400x400 with 1 Axes>"
      ]
     },
     "metadata": {},
     "output_type": "display_data"
    }
   ],
   "source": [
    "from env.custom_maze_env import CustomMazeEnv\n",
    "import matplotlib.pyplot as plt\n",
    "\n",
    "env = CustomMazeEnv(\n",
    "    layout_id=\"a\",\n",
    "    goal_pos=(7,1),\n",
    "    view_size=5,\n",
    "    max_steps=250,\n",
    "    tile_size=32,\n",
    "    render_mode=\"rgb_array\"    # ← 이 인자로 배열 반환이 활성화됩니다\n",
    ")\n",
    "\n",
    "obs, _ = env.reset(seed=0)\n",
    "print(\"Start:\", obs[\"position\"], \"Goal:\", env.goal_pos)\n",
    "\n",
    "img = env.render()           # 이제 numpy RGB array 반환!\n",
    "plt.figure(figsize=(4,4))\n",
    "plt.imshow(img)\n",
    "plt.axis(\"off\")\n"
   ]
  },
  {
   "cell_type": "code",
   "execution_count": 20,
   "id": "73be716e",
   "metadata": {},
   "outputs": [
    {
     "name": "stdout",
     "output_type": "stream",
     "text": [
      "dict_keys(['view', 'timestep', 'position', 'image'])\n"
     ]
    },
    {
     "data": {
      "image/png": "[encoded data removed]",
      "text/plain": [
       "<Figure size 300x300 with 1 Axes>"
      ]
     },
     "metadata": {},
     "output_type": "display_data"
    }
   ],
   "source": [
    "from minigrid.wrappers import RGBImgPartialObsWrapper, ImgObsWrapper\n",
    "\n",
    "# ① Base env 생성 (render_mode=\"rgb_array\" 필수)\n",
    "base_env = CustomMazeEnv(\n",
    "    layout_id=\"a\",\n",
    "    goal_pos=(7,1),\n",
    "    view_size=5,\n",
    "    max_steps=250,\n",
    "    tile_size=32,\n",
    "    render_mode=\"rgb_array\"\n",
    ")\n",
    "\n",
    "# ② 1인칭 픽셀 obs 래핑 (이게 핵심)\n",
    "env = RGBImgPartialObsWrapper(base_env, tile_size=32)\n",
    "\n",
    "# ③ reset → obs 은 dict, 'image'에 egocentric RGB 뷰가 담겨 있음\n",
    "obs, _ = env.reset(seed=0)\n",
    "print(obs.keys())\n",
    "# → dict_keys(['image', 'direction', 'mission', 'timestep', 'position', ...])\n",
    "\n",
    "# ④ 1인칭 뷰 시각화\n",
    "plt.figure(figsize=(3,3))\n",
    "plt.imshow(obs[\"image\"])\n",
    "plt.title(f\"Step {obs['timestep']}  Pos {obs['position']}\")\n",
    "plt.axis(\"off\")\n",
    "plt.show()"
   ]
  },
  {
   "cell_type": "markdown",
   "id": "7708d37b",
   "metadata": {},
   "source": [
    "## 움직이기"
   ]
  },
  {
   "cell_type": "code",
   "execution_count": null,
   "id": "e1049611",
   "metadata": {},
   "outputs": [],
   "source": [
    "import matplotlib.pyplot as plt\n",
    "import time\n",
    "\n",
    "# 환경 생성 (render_mode=\"rgb_array\"는 이미 custom env 에 설정되어 있습니다)\n",
    "env = CustomMazeEnv(\n",
    "    layout_id=\"a\",\n",
    "    goal_pos=(7,1),\n",
    "    view_size=5,\n",
    "    max_steps=250,\n",
    "    tile_size=32,\n",
    "    render_mode=\"rgb_array\"\n",
    ")\n",
    "\n",
    "# 에피소드 시작\n",
    "obs, _ = env.reset(seed=42)\n",
    "done = False\n",
    "\n",
    "while not done:\n",
    "    # 1) 현재 1인칭 시점 이미지 출력\n",
    "    plt.figure(figsize=(3,3))\n",
    "    plt.imshow(obs[\"view\"])\n",
    "    plt.title(f\"Step: {obs['timestep']}  Pos: {obs['position']}\")\n",
    "    plt.axis(\"off\")\n",
    "    plt.show()\n",
    "    time.sleep(0.2)   # 화면 전환이 너무 빠르면 보기 힘들어서 잠깐 멈춤\n",
    "\n",
    "    # 2) 랜덤 액션 선택 & 수행\n",
    "    action = env.action_space.sample()\n",
    "    obs, reward, terminated, truncated, _ = env.step(action)\n",
    "\n",
    "    # 3) goal 도달 리워드 체크\n",
    "    if reward > 0:\n",
    "        print(f\"🎉 Goal reached at step {obs['timestep']}  Position: {obs['position']}\")\n",
    "    done = terminated or truncated\n",
    "\n",
    "# 마지막 전체 그리드(탑다운) 한 번 더 보기\n",
    "full = env.render()   # (tile_size=32 RGB array)\n",
    "plt.figure(figsize=(4,4))\n",
    "plt.imshow(full)\n",
    "plt.title(\"Final Top-Down View\")\n",
    "plt.axis(\"off\")\n",
    "plt.show()\n"
   ]
  },
  {
   "cell_type": "code",
   "execution_count": 22,
   "id": "c0c1f69b",
   "metadata": {},
   "outputs": [
    {
     "data": {
      "text/plain": [
       "(11, 11, 3)"
      ]
     },
     "execution_count": 22,
     "metadata": {},
     "output_type": "execute_result"
    }
   ],
   "source": [
    "import gymnasium as gym\n",
    "import matplotlib.pyplot as plt\n",
    "from minigrid.wrappers import FullyObsWrapper\n",
    "env = gym.make(\"MiniGrid-LavaCrossingS11N5-v0\")\n",
    "obs, _ = env.reset()\n",
    "obs['image'].shape\n",
    "(7, 7, 3)\n",
    "env_obs = FullyObsWrapper(env)\n",
    "obs, _ = env_obs.reset()\n",
    "obs['image'].shape\n",
    "(11, 11, 3)"
   ]
  },
  {
   "cell_type": "code",
   "execution_count": 24,
   "id": "7f38aee9",
   "metadata": {},
   "outputs": [
    {
     "data": {
      "text/plain": [
       "(7, 7, 3)"
      ]
     },
     "execution_count": 24,
     "metadata": {},
     "output_type": "execute_result"
    }
   ],
   "source": [
    "import gymnasium as gym\n",
    "from minigrid.wrappers import ImgObsWrapper\n",
    "env = gym.make(\"MiniGrid-Empty-5x5-v0\")\n",
    "obs, _ = env.reset()\n",
    "obs.keys()\n",
    "env = ImgObsWrapper(env)\n",
    "obs, _ = env.reset()\n",
    "obs.shape\n",
    "(7, 7, 3)"
   ]
  },
  {
   "cell_type": "code",
   "execution_count": null,
   "id": "c1434fb6",
   "metadata": {},
   "outputs": [],
   "source": []
  }
 ],
 "metadata": {
  "kernelspec": {
   "display_name": "final_project",
   "language": "python",
   "name": "python3"
  },
  "language_info": {
   "codemirror_mode": {
    "name": "ipython",
    "version": 3
   },
   "file_extension": ".py",
   "mimetype": "text/x-python",
   "name": "python",
   "nbconvert_exporter": "python",
   "pygments_lexer": "ipython3",
   "version": "3.10.17"
  }
 },
 "nbformat": 4,
 "nbformat_minor": 5
}
