{
 "cells": [
  {
   "cell_type": "markdown",
   "metadata": {},
   "source": [
    "CNN & RNN EMBEDDING"
   ]
  },
  {
   "cell_type": "code",
   "execution_count": 112,
   "metadata": {},
   "outputs": [],
   "source": [
    "import os, sys\n",
    "# notebooks/에서 한 단계 위로 올라간 폴더를 PATH에 추가\n",
    "project_root = os.path.abspath(os.path.join(os.getcwd(), '..'))\n",
    "if project_root not in sys.path:\n",
    "    sys.path.insert(0, project_root)\n",
    "    \n",
    "from env.custom_maze_env import CustomMazeEnv\n",
    "from env.get_retina_image import reconstruct"
   ]
  },
  {
   "cell_type": "code",
   "execution_count": 113,
   "metadata": {},
   "outputs": [],
   "source": [
    "from minigrid.wrappers import RGBImgPartialObsWrapper\n",
    "base_env = CustomMazeEnv(\n",
    "    layout_id=\"c\",\n",
    "    goal_pos=(0,3),\n",
    "    view_size=5,\n",
    "    max_steps=250,\n",
    "    tile_size=32,\n",
    "    render_mode=\"rgb_array\"\n",
    ")\n",
    "\n",
    "env = RGBImgPartialObsWrapper(base_env, tile_size=32)\n",
    "obs, _ = env.reset(seed=40)\n",
    "top_down_view = env.render()\n",
    "fp_view = obs['image'] \n",
    "\n",
    "# print(\"Start:\", obs[\"position\"])\n",
    "\n",
    "# # 4) 원본 goal_pos 읽기 (unwrap)\n",
    "# print(\"Goal:\", env.unwrapped.goal_pos)\n",
    "\n",
    "# # 5) 탑다운 렌더링\n"
   ]
  },
  {
   "cell_type": "code",
   "execution_count": null,
   "metadata": {},
   "outputs": [
    {
     "data": {
      "text/plain": [
       "tensor([[  1.4168,   7.3959,  11.0704,   6.8866,  -3.0817,   1.6848,  -1.4286,\n",
       "          -0.6006,   2.7093,   4.4311,   1.4266,  -5.0897,   1.1369,  12.0853,\n",
       "         -11.5176,  -3.0403]], grad_fn=<AddmmBackward0>)"
      ]
     },
     "execution_count": 106,
     "metadata": {},
     "output_type": "execute_result"
    }
   ],
   "source": [
    "from torch import nn\n",
    "import torch\n",
    "import math\n",
    "\n"
   ]
  },
  {
   "cell_type": "code",
   "execution_count": null,
   "metadata": {},
   "outputs": [],
   "source": []
  },
  {
   "cell_type": "code",
   "execution_count": null,
   "metadata": {},
   "outputs": [],
   "source": [
    "class RNNpolicy()"
   ]
  },
  {
   "cell_type": "markdown",
   "metadata": {},
   "source": [
    "Memory Slot"
   ]
  },
  {
   "cell_type": "code",
   "execution_count": null,
   "metadata": {},
   "outputs": [],
   "source": []
  },
  {
   "cell_type": "code",
   "execution_count": null,
   "metadata": {},
   "outputs": [],
   "source": [
    "\n",
    "\n",
    "import os\n",
    "import yaml\n",
    "import torch\n",
    "import random\n",
    "import time\n",
    "from torch import nn, optim\n",
    "from torch.distributions import Categorical\n",
    "from env.custom_maze_env import CustomMazeEnv\n",
    "from env.get_retina_image import reconstruct\n",
    "from minigrid.wrappers import RGBImgPartialObsWrapper, ImgObsWrapper\n",
    "import matplotlib.pyplot as plt\n",
    "import numpy as np\n",
    "from IPython import display\n",
    "\n",
    "\n",
    "#==========================\n",
    "# 모델 import 및 Load\n",
    "#==========================\n",
    "\n",
    "RNNPolicy = None\n",
    "\n",
    "\n",
    "#==========================\n",
    "# 메모리 import 및 Load\n",
    "#==========================\n",
    "\n",
    "RNNPolicy = None\n",
    "\n",
    "\n",
    "#==========================\n",
    "# set_seed\n",
    "#==========================\n",
    "def set_seed(seed):\n",
    "    random.seed(seed)\n",
    "    np.random.seed(seed)\n",
    "    torch.manual_seed(seed)\n",
    "\n",
    "\n",
    "# 1) 설정 불러오기\n",
    "cfg = yaml.safe_load(open(os.path.join(project_root, \"experiments/config/default.yaml\")))\n",
    "set_seed(cfg[\"train\"][\"seed\"])\n",
    "\n",
    "# 2) 환경 생성 & 래핑\n",
    "base_env = CustomMazeEnv(**cfg[\"env\"])\n",
    "env = RGBImgPartialObsWrapper(base_env, tile_size=cfg[\"env\"][\"tile_size\"])\n",
    "\n",
    "action_dim = env.action_space.n\n",
    "\n",
    "# 3) 에이전트, 옵티마이저\n",
    "# policy = RNNPolicy(obs_dim, cfg[\"agent\"][\"hidden_size\"], action_dim)\n",
    "# optimizer = optim.Adam(policy.parameters(), lr=cfg[\"agent\"][\"learning_rate\"])\n",
    "\n",
    "\n",
    "# tensorboard 준비\n",
    "# if cfg[\"logging\"][\"use_tensorboard\"]:\n",
    "#     from torch.utils.tensorboard import SummaryWriter\n",
    "#     tb = SummaryWriter(cfg[\"logging\"][\"tensorboard_dir\"])\n",
    "# else:\n",
    "#     tb = None\n",
    "\n",
    "# 4) 학습 루프\n",
    "ep = 1\n",
    "\n",
    "obs, _ = env.reset(seed=cfg[\"train\"][\"seed\"] + ep)\n",
    "obs_dim = np.prod(reconstruct(obs[\"image\"], render_chanel=1).shape)  # flatten -> 6ox80\n",
    "# obs[\"image\"] shape = (tile_size * view_size, tile_size * view_size, 3)\n",
    "retina = reconstruct(obs[\"image\"], render_chanel=1) # 60 x 80\n",
    "# full_map = obs[\"image\"] # 160 x 160 x 3\n",
    "\n",
    "\n",
    "state = torch.from_numpy(retina).float().view(1,1,-1)\n",
    "hx = torch.zeros(1, 1, cfg[\"agent\"][\"hidden_size\"])\n",
    "log_probs = []\n",
    "rewards = []"
   ]
  },
  {
   "cell_type": "code",
   "execution_count": null,
   "metadata": {},
   "outputs": [],
   "source": [
    "state = torch.from_numpy(retina)[None, None, ...] ## 1 x 1 x 60 x 80\n",
    "hx = torch.zeros(1, 1, cfg[\"agent\"][\"hidden_size\"])\n",
    "cnn_embedder = cnn_embed(\n",
    "    cnn_hidden_lyrs=[16, 32],\n",
    "    lin_hidden_lyrs=[32, 64],\n",
    "    input_img_shape=(60, 80)\n",
    "    )\n",
    "state_emd = cnn_embedder(state).unsqueeze(0) # 1 x 1 x stateDim\n",
    "rnn_lyr = nn.RNN(64, 128, batch_first=True)\n",
    "state_hidden, _ = rnn_lyr.forward(state_emd, hx) # change state_hidden to hx /// 1 x 1 x hiddenDim \n",
    "\n",
    "state_hidden"
   ]
  },
  {
   "cell_type": "code",
   "execution_count": null,
   "metadata": {},
   "outputs": [],
   "source": []
  },
  {
   "cell_type": "code",
   "execution_count": null,
   "metadata": {},
   "outputs": [
    {
     "data": {
      "text/plain": [
       "torch.Size([1, 1, 60, 80])"
      ]
     },
     "execution_count": 115,
     "metadata": {},
     "output_type": "execute_result"
    }
   ],
   "source": [
    "class rnn_embed(nn.Module):\n",
    "    def __init__(self, \n",
    "                 rnn_input_dim: int,\n",
    "                 rnn_hidden_dim: int):\n",
    "    \n",
    "        super().__init__()\n",
    "        self.rnn_lyr = nn.RNN(rnn_input_dim, rnn_hidden_dim)\n",
    "        self.lin_lyr = nn.Linear(rnn_hidden_dim, rnn_hidden_dim)\n",
    "\n",
    "    def forward(self, hidden_state, current_obs):\n",
    "\n",
    "        prev_current = torch.cat([hidden_state, current_obs])\n",
    "        hidden_state_, _ = self.rnn_lyr(prev_current)\n",
    "        hidden_state_new = self.lin_lyr(hidden_state_)\n",
    "        \n",
    "        return hidden_state_new"
   ]
  },
  {
   "cell_type": "code",
   "execution_count": null,
   "metadata": {},
   "outputs": [
    {
     "data": {
      "text/plain": [
       "tensor([[ 0.0182,  0.0607,  0.0099, -0.0319, -0.0623,  0.0488, -0.0005,  0.0454,\n",
       "          0.0232, -0.0800,  0.0049,  0.0527,  0.0591,  0.0574,  0.0757,  0.0410]],\n",
       "       grad_fn=<AddmmBackward0>)"
      ]
     },
     "execution_count": 94,
     "metadata": {},
     "output_type": "execute_result"
    }
   ],
   "source": [
    "##### 메모리에 저장하는 코드 추가해야함 ###\n",
    "#     # retina : retina(egocentric view)\n",
    "#     # action : a\n",
    "#     # hidden_state\n",
    "#     # timestep : obs['timestep']\n",
    "#     # agent_postion : obs['position']\n",
    "#     # episode_number : ep\n",
    "#     #========================================"
   ]
  },
  {
   "cell_type": "code",
   "execution_count": 152,
   "metadata": {},
   "outputs": [
    {
     "data": {
      "text/plain": [
       "torch.Size([1, 105, 8])"
      ]
     },
     "execution_count": 152,
     "metadata": {},
     "output_type": "execute_result"
    }
   ],
   "source": [
    "input1 = torch.randn(1,2,8)\n",
    "input2 = torch.randn(1,103,8)\n",
    "\n",
    "torch.cat([input1, input2], axis=1).shape"
   ]
  },
  {
   "cell_type": "code",
   "execution_count": 154,
   "metadata": {},
   "outputs": [
    {
     "data": {
      "text/plain": [
       "torch.Size([1, 90, 8])"
      ]
     },
     "execution_count": 154,
     "metadata": {},
     "output_type": "execute_result"
    }
   ],
   "source": [
    "input2[:, -90:,:].shape"
   ]
  },
  {
   "cell_type": "code",
   "execution_count": 165,
   "metadata": {},
   "outputs": [
    {
     "ename": "SyntaxError",
     "evalue": "expected ':' (2518245035.py, line 77)",
     "output_type": "error",
     "traceback": [
      "\u001b[0;36m  Cell \u001b[0;32mIn[165], line 77\u001b[0;36m\u001b[0m\n\u001b[0;31m    def update(self, retina, embed_state, hidden_state, action, obs, ep, done)\u001b[0m\n\u001b[0m                                                                              ^\u001b[0m\n\u001b[0;31mSyntaxError\u001b[0m\u001b[0;31m:\u001b[0m expected ':'\n"
     ]
    }
   ],
   "source": [
    "import torch \n",
    "import torch.nn \n",
    "import math\n",
    "import pickle\n",
    "\n",
    "class cnn_embed(nn.Module):\n",
    "    '''\n",
    "    input: retina\n",
    "    output: cnn embedding of retina\n",
    "    '''\n",
    "    def __init__(\n",
    "        self,\n",
    "        cnn_hidden_lyrs: list = [16, 32],\n",
    "        lin_hidden_lyrs: list = [32, 64],\n",
    "        input_img_shape: tuple = (60, 80) # HW\n",
    "    ):\n",
    "        ## 0)\n",
    "        super().__init__()\n",
    "        \n",
    "        ## 1) CNN LAYERS\n",
    "        self.cnn_lyrs = []\n",
    "        cnn_hidden_lyr_prev = 1 ## TBD iINITIAL CHANNEL SET TO 1\n",
    "        for cnn_hidden_lyr in cnn_hidden_lyrs:\n",
    "            conv = nn.Conv2d(in_channels = cnn_hidden_lyr_prev,\n",
    "                            out_channels = cnn_hidden_lyr,\n",
    "                            kernel_size=3,\n",
    "                            stride=1,\n",
    "                            padding=0)\n",
    "            self.cnn_lyrs += [conv, nn.ReLU(), nn.MaxPool2d(2,2)]\n",
    "            cnn_hidden_lyr_prev = cnn_hidden_lyr\n",
    "\n",
    "        ## 2) LINEAR LAYERS\n",
    "        self.lin_lyrs = [nn.Flatten()]\n",
    "        if lin_hidden_lyrs == []:\n",
    "            pass \n",
    "        else:\n",
    "            output_img_shape = self.get_shape(self.cnn_lyrs, (1,1, *input_img_shape)) ## TBD BATCH\n",
    "            lin_hidden_lyr_prev = math.prod(output_img_shape)\n",
    "            for lin_hidden_lyr in lin_hidden_lyrs[:-1]:\n",
    "                self.lin_lyrs += [\n",
    "                    nn.Linear(lin_hidden_lyr_prev, lin_hidden_lyr),\n",
    "                    nn.ReLU()\n",
    "                ]\n",
    "                lin_hidden_lyr_prev = lin_hidden_lyr\n",
    "\n",
    "            self.lin_lyrs.append(nn.Linear(lin_hidden_lyr_prev, lin_hidden_lyrs[-1])) ##TBD CHECK\n",
    "\n",
    "    def forward(self, input_img, only_output=True):\n",
    "        inter_img = nn.Sequential(*self.cnn_lyrs)(input_img) \n",
    "        output_img = nn.Sequential(*self.lin_lyrs)(inter_img)\n",
    "\n",
    "        if only_output:\n",
    "            return output_img\n",
    "        else:\n",
    "            return output_img, inter_img\n",
    "\n",
    "    def get_shape(self, lyrs, input_img_shape):\n",
    "        with torch.no_grad():\n",
    "            embedder = nn.Sequential(*lyrs)\n",
    "            output = embedder(torch.zeros(*input_img_shape))\n",
    "            output_img_shape = output.shape[1:]\n",
    "            return output_img_shape\n",
    "    \n",
    "class memory_bank():\n",
    "    def __init__(\n",
    "            self,\n",
    "            decay_rate: float=0.8,\n",
    "            noise_std: float=0.1,\n",
    "            memory_len: int=100\n",
    "    ):\n",
    "        self.memory_bank_org = []\n",
    "        self.memory_bank_hidden = torch.Tensor()\n",
    "        self.decay_rate = decay_rate\n",
    "        self.noise_std = noise_std \n",
    "        self.memory_len = memory_len\n",
    "    \n",
    "    def update(self, retina, embed_state, hidden_state, action, obs, ep, done)\n",
    "\n",
    "        ## 1) push memory_slot & save if necessary\n",
    "        self.push(retina, embed_state, hidden_state, action, obs, ep)\n",
    "        self.save(ep, done)\n",
    "\n",
    "        ## 2) update two memory banks \n",
    "        self.memory_bank_org.append(self.memory_slot)\n",
    "        self.memory_bank_hidden = torch.cat([\n",
    "            self.memory_bank_hidden,\n",
    "            hidden_state \n",
    "        ], axis=1) ## TBD FOR LATER RNN MODIFICATION USED AXIS 1 AGGREGATION\n",
    "        \n",
    "        self.memory_bank_hidden = self.memory_bank_hidden[:, -self.memory_len:, :]\n",
    "        self.add_decay()\n",
    "\n",
    "        \n",
    "    def push(self, retina, embed_state, hidden_state, action, obs, ep):\n",
    "        \n",
    "        self.memory_slot = {\n",
    "            'obs': retina,\n",
    "            'embed_state': embed_state,\n",
    "            'hidden_state': hidden_state,\n",
    "            'action': action,\n",
    "            'timestep': obs['timestep'],\n",
    "            'position': obs['position'],\n",
    "            'epi_no': ep\n",
    "        }\n",
    "\n",
    "    def save(self, ep, done):\n",
    "        if done:\n",
    "            # os.makedirs('results/memory_bank', exist_ok=True) \n",
    "            with (f'results/memory_bank/{ep}.pkl') as file:\n",
    "                pickle.dump(self.memory_bank_org, file)\n",
    "            self.memory_bank_org = []\n",
    "    \n",
    "    def add_decay(self, decay_rate, noise_std):\n",
    "        \n",
    "        memory_len_real = self.memory_bank_hidden.size(1)\n",
    "        for idx in range(memory_len_real):\n",
    "            memory = self.memory_bank_hidden[:, idx, :]\n",
    "            \n",
    "        # self.memory_bank_hidden = add_decay(self.memory_bank_hidden)\n",
    "        # self.memory_bank_hidden = self.memory_bank_hidden[:-10] \n",
    "\n",
    "class\n"
   ]
  },
  {
   "cell_type": "code",
   "execution_count": 156,
   "metadata": {},
   "outputs": [
    {
     "data": {
      "text/plain": [
       "torch.Size([1, 2, 8])"
      ]
     },
     "execution_count": 156,
     "metadata": {},
     "output_type": "execute_result"
    }
   ],
   "source": [
    "input1.shape\n"
   ]
  },
  {
   "cell_type": "code",
   "execution_count": 161,
   "metadata": {},
   "outputs": [
    {
     "data": {
      "text/plain": [
       "torch.Size([1, 8])"
      ]
     },
     "execution_count": 161,
     "metadata": {},
     "output_type": "execute_result"
    }
   ],
   "source": [
    "for idx in range(input1.shape[1]):\n",
    "    hehe = input1[:,idx,:]\n",
    "\n",
    "hehe.shape"
   ]
  },
  {
   "cell_type": "code",
   "execution_count": 164,
   "metadata": {},
   "outputs": [
    {
     "data": {
      "text/plain": [
       "torch.Size([1, 2, 8])"
      ]
     },
     "execution_count": 164,
     "metadata": {},
     "output_type": "execute_result"
    }
   ],
   "source": [
    "torch.stack([hehe, hehe], axis=1).shape"
   ]
  },
  {
   "cell_type": "code",
   "execution_count": null,
   "metadata": {},
   "outputs": [],
   "source": [
    "def retrieve(hidden_state_t, memorys):\n",
    "    cos_smlr_max = 0\n",
    "    for memory in memorys:\n",
    "        cos_smlr = nn.CosineSimilarity(hidden_state_t, memory)\n",
    "        if cos_smlr_max < cos_smlr:\n",
    "            cos_smlr_max = cos_smlr \n",
    "            memory_retrieve = memory\n",
    "        return memory_retrieve, cos_smlr_max"
   ]
  },
  {
   "cell_type": "markdown",
   "metadata": {},
   "source": [
    "TRAINING"
   ]
  },
  {
   "cell_type": "code",
   "execution_count": null,
   "metadata": {},
   "outputs": [],
   "source": [
    "import os, sys\n",
    "# notebooks/에서 한 단계 위로 올라간 폴더를 PATH에 추가\n",
    "project_root = os.path.abspath(os.path.join(os.getcwd(), '..'))\n",
    "if project_root not in sys.path:\n",
    "    sys.path.insert(0, project_root)\n",
    "\n",
    "\n",
    "import os\n",
    "import yaml\n",
    "import torch\n",
    "import random\n",
    "import time\n",
    "from torch import nn, optim\n",
    "from torch.distributions import Categorical\n",
    "from env.custom_maze_env import CustomMazeEnv\n",
    "from env.get_retina_image import reconstruct\n",
    "from minigrid.wrappers import RGBImgPartialObsWrapper, ImgObsWrapper\n",
    "import matplotlib.pyplot as plt\n",
    "import numpy as np\n",
    "from IPython import display\n",
    "\n",
    "\n",
    "#==========================\n",
    "# 모델 import 및 Load\n",
    "#==========================\n",
    "\n",
    "RNNPolicy = None\n",
    "\n",
    "\n",
    "#==========================\n",
    "# 메모리 import 및 Load\n",
    "#==========================\n",
    "\n",
    "RNNPolicy = None\n",
    "\n",
    "\n",
    "#==========================\n",
    "# set_seed\n",
    "#==========================\n",
    "def set_seed(seed):\n",
    "    random.seed(seed)\n",
    "    np.random.seed(seed)\n",
    "    torch.manual_seed(seed)\n",
    "\n",
    "\n",
    "# 1) 설정 불러오기\n",
    "cfg = yaml.safe_load(open(os.path.join(project_root, \"experiments/config/default.yaml\")))\n",
    "set_seed(cfg[\"train\"][\"seed\"])\n",
    "\n",
    "# 2) 환경 생성 & 래핑\n",
    "base_env = CustomMazeEnv(**cfg[\"env\"])\n",
    "env = RGBImgPartialObsWrapper(base_env, tile_size=cfg[\"env\"][\"tile_size\"])\n",
    "obs_dim = np.prod(reconstruct(obs[\"image\"], render_chanel=1).shape)  # flatten -> 6ox80\n",
    "action_dim = env.action_space.n\n",
    "\n",
    "# # 3) 에이전트, 옵티마이저\n",
    "# policy = RNNPolicy(obs_dim, cfg[\"agent\"][\"hidden_size\"], action_dim)\n",
    "# optimizer = optim.Adam(policy.parameters(), lr=cfg[\"agent\"][\"learning_rate\"])\n",
    "\n",
    "\n",
    "# # tensorboard 준비\n",
    "# if cfg[\"logging\"][\"use_tensorboard\"]:\n",
    "#     from torch.utils.tensorboard import SummaryWriter\n",
    "#     tb = SummaryWriter(cfg[\"logging\"][\"tensorboard_dir\"])\n",
    "# else:\n",
    "#     tb = None\n",
    "\n",
    "ep = 1\n",
    "# for ep in range(1, cfg[\"train\"][\"total_episodes\"] + 1):\n",
    "obs, _ = env.reset(seed=cfg[\"train\"][\"seed\"] + ep)\n",
    "# obs[\"image\"] shape = (tile_size * view_size, tile_size * view_size, 3)\n",
    "retina = reconstruct(obs[\"image\"], render_chanel=1)# 60 x 80\n",
    "# full_map = obs[\"image\"] # 160 x 160 x 3\n",
    "\n",
    "\n",
    "state = torch.from_numpy(retina).float().view(1,1,-1)\n",
    "hx = torch.zeros(1, 1, cfg[\"agent\"][\"hidden_size\"])\n",
    "log_probs = []\n",
    "rewards = []\n"
   ]
  },
  {
   "cell_type": "code",
   "execution_count": null,
   "metadata": {},
   "outputs": [
    {
     "data": {
      "text/plain": [
       "torch.Size([1, 1, 4800])"
      ]
     },
     "execution_count": 75,
     "metadata": {},
     "output_type": "execute_result"
    }
   ],
   "source": [
    "cnn_embedder"
   ]
  },
  {
   "cell_type": "code",
   "execution_count": null,
   "metadata": {},
   "outputs": [],
   "source": [
    "\n",
    "# #==========================\n",
    "# # 에피소드 학습\n",
    "# #==========================\n",
    "# done = False\n",
    "# while not done:\n",
    "#     logits, hx = policy(state, hx)\n",
    "#     m = Categorical(logits=logits)\n",
    "#     a = m.sample()\n",
    "#     log_probs.append(m.log_prob(a))\n",
    "\n",
    "#     obs, r, term, trunc, _ = env.step(a.item())\n",
    "#     rewards.append(r)\n",
    "\n",
    "#     #======================================\n",
    "#     ##### 메모리에 저장하는 코드 추가해야함 ###\n",
    "#     # retina : retina(egocentric view)\n",
    "#     # action : a\n",
    "#     # hidden_state\n",
    "#     # timestep : obs['timestep']\n",
    "#     # agent_postion : obs['position']\n",
    "#     # episode_number : ep\n",
    "#     #========================================\n",
    "\n",
    "#     # next state\n",
    "#     retina = reconstruct(obs[\"image\"], render_chanel=1)# 60 x 80\n",
    "#     state = torch.from_numpy(retina).float().view(1,1,-1)\n",
    "#     done = term or trunc\n",
    "\n",
    "#     # #============================\n",
    "#     # # 에피소드 당 손실 계산 (REINFORCE)\n",
    "#     # #============================\n",
    "#     # returns = []\n",
    "#     # G = 0\n",
    "#     # for r in reversed(rewards):\n",
    "#     #     G = r + cfg[\"agent\"][\"gamma\"] * G\n",
    "#     #     returns.insert(0, G)\n",
    "#     # returns = torch.tensor(returns)\n",
    "#     # returns = (returns - returns.mean()) / (returns.std() + 1e-8)\n",
    "\n",
    "#     # loss = 0\n",
    "#     # for lp, G in zip(log_probs, returns):\n",
    "#     #     loss -= lp * G\n",
    "\n",
    "#     # optimizer.zero_grad()\n",
    "#     # loss.backward()\n",
    "#     # optimizer.step()\n"
   ]
  },
  {
   "cell_type": "code",
   "execution_count": null,
   "metadata": {},
   "outputs": [],
   "source": [
    "# memory 구조\n",
    "# time step 단위의 메모리 저장(시간순으로 입력되는 경험의 벡터 시퀀스로 구성)\n",
    "\t\n",
    "# Memory slot : 각 시점의 경험을 담은 벡터 (obs, action, reward, cue, step)\n",
    "# mᵢ = concat(\n",
    "#     obs_embeddingᵢ, #시각 입력의 임베딩 (CNN)\n",
    "#     actionᵢ,             # 선택한 행동 (one-hot or int)\n",
    "#     hidden_state_t,   # 해당 시점의 RNN hidden state\n",
    "#     timestepᵢ,            # 상대 시간 정보\n",
    "#     절대 좌표,  # 학습에 활용하지는 않음\n",
    "#     에피소드 번호\n",
    "# )\n",
    "\n",
    "# Memory bank : Memory slot 보관함\n",
    "# 시간이 지남에 따라 메모리 decay 적용 <- 노이즈 추가(노이즈 크기는 하이퍼 파라미터로 설정)\n",
    "# RNN Encoder : 현재의 관측값+회상값을 인코딩하여 hidden state sequence 생성\n",
    "# 회상 메모리, 현재 관측값은 gate(parameter)를 거쳐 합 1의 크기로 비율을 조정\n",
    "\n",
    "#  Attention 기반 Retrieval (회상 메모리 생성)\n",
    "# -> 현재의 관측값(obs_embedding)의 similarity를 가중치로 메모리의 hidden_state를 합침\n",
    "# -> weighted sum으로 회상된 memory 벡터 생성\n",
    "# 현재 관측값 기반 hidden_state +회상기반 hidden_state를 gate를 통해 합친다.\n",
    "# 합쳐진 hidden_state를 기반으로 action을 예측.\n",
    "\n",
    "# memory/             \n",
    "# │   │   ├── slots.py        # Slot 클래스 정의 (obs, Δt, h)  \n",
    "# │   │   ├── bank.py         # MemoryBank 인터페이스  \n",
    "# │   │   └── forget.py       # 망각곡선·noise 로직  \n",
    "# │   │\n",
    "# │   ├── retrieval/          \n",
    "# │   │   ├── attention.py    # attention 유사도 함수·key/value  \n",
    "# │   │   └── gate.py         # Retrieval Gate 모듈  \n",
    "# │   │\n",
    "# │   ├── model/              \n",
    "# │   │   └── rnn_agent.py    # RNN+retrieval 통합 모델 \n"
   ]
  },
  {
   "cell_type": "code",
   "execution_count": 125,
   "metadata": {},
   "outputs": [
    {
     "ename": "NameError",
     "evalue": "name 'info' is not defined",
     "output_type": "error",
     "traceback": [
      "\u001b[0;31m---------------------------------------------------------------------------\u001b[0m",
      "\u001b[0;31mNameError\u001b[0m                                 Traceback (most recent call last)",
      "Cell \u001b[0;32mIn[125], line 1\u001b[0m\n\u001b[0;32m----> 1\u001b[0m \u001b[43minfo\u001b[49m\n",
      "\u001b[0;31mNameError\u001b[0m: name 'info' is not defined"
     ]
    }
   ],
   "source": [
    "info"
   ]
  },
  {
   "cell_type": "code",
   "execution_count": 124,
   "metadata": {},
   "outputs": [
    {
     "data": {
      "text/plain": [
       "{'view': {'image': array([[[1, 0, 0],\n",
       "          [1, 0, 0],\n",
       "          [1, 0, 0],\n",
       "          [1, 0, 0],\n",
       "          [1, 0, 0]],\n",
       "  \n",
       "         [[1, 0, 0],\n",
       "          [1, 0, 0],\n",
       "          [1, 0, 0],\n",
       "          [2, 5, 0],\n",
       "          [1, 0, 0]],\n",
       "  \n",
       "         [[1, 0, 0],\n",
       "          [1, 0, 0],\n",
       "          [1, 0, 0],\n",
       "          [2, 5, 0],\n",
       "          [1, 0, 0]],\n",
       "  \n",
       "         [[2, 5, 0],\n",
       "          [2, 5, 0],\n",
       "          [2, 5, 0],\n",
       "          [2, 5, 0],\n",
       "          [2, 5, 0]],\n",
       "  \n",
       "         [[0, 0, 0],\n",
       "          [0, 0, 0],\n",
       "          [0, 0, 0],\n",
       "          [0, 0, 0],\n",
       "          [0, 0, 0]]], dtype=uint8),\n",
       "  'direction': 2,\n",
       "  'mission': 'reach the green goal square'},\n",
       " 'timestep': 0,\n",
       " 'position': (15, 11),\n",
       " 'image': array([[[146, 146, 146],\n",
       "         [146, 146, 146],\n",
       "         [146, 146, 146],\n",
       "         ...,\n",
       "         [100, 100, 100],\n",
       "         [100, 100, 100],\n",
       "         [100, 100, 100]],\n",
       " \n",
       "        [[146, 146, 146],\n",
       "         [ 76,  76,  76],\n",
       "         [ 76,  76,  76],\n",
       "         ...,\n",
       "         [  0,   0,   0],\n",
       "         [  0,   0,   0],\n",
       "         [  0,   0,   0]],\n",
       " \n",
       "        [[146, 146, 146],\n",
       "         [ 76,  76,  76],\n",
       "         [ 76,  76,  76],\n",
       "         ...,\n",
       "         [  0,   0,   0],\n",
       "         [  0,   0,   0],\n",
       "         [  0,   0,   0]],\n",
       " \n",
       "        ...,\n",
       " \n",
       "        [[146, 146, 146],\n",
       "         [ 76,  76,  76],\n",
       "         [ 76,  76,  76],\n",
       "         ...,\n",
       "         [  0,   0,   0],\n",
       "         [  0,   0,   0],\n",
       "         [  0,   0,   0]],\n",
       " \n",
       "        [[146, 146, 146],\n",
       "         [ 76,  76,  76],\n",
       "         [ 76,  76,  76],\n",
       "         ...,\n",
       "         [  0,   0,   0],\n",
       "         [  0,   0,   0],\n",
       "         [  0,   0,   0]],\n",
       " \n",
       "        [[146, 146, 146],\n",
       "         [ 76,  76,  76],\n",
       "         [ 76,  76,  76],\n",
       "         ...,\n",
       "         [  0,   0,   0],\n",
       "         [  0,   0,   0],\n",
       "         [  0,   0,   0]]], dtype=uint8)}"
      ]
     },
     "execution_count": 124,
     "metadata": {},
     "output_type": "execute_result"
    }
   ],
   "source": [
    "obs"
   ]
  },
  {
   "cell_type": "code",
   "execution_count": null,
   "metadata": {},
   "outputs": [],
   "source": []
  },
  {
   "cell_type": "code",
   "execution_count": null,
   "metadata": {},
   "outputs": [],
   "source": [
    "memory 구조\n",
    "time step 단위의 메모리 저장(시간순으로 입력되는 경험의 벡터 시퀀스로 구성)\n",
    "\t\n",
    "Memory slot : 각 시점의 경험을 담은 벡터 (obs, action, reward, cue, step)\n",
    "mᵢ = concat(\n",
    "    obs_embeddingᵢ, #시각 입력의 임베딩 (CNN)\n",
    "    actionᵢ,             # 선택한 행동 (one-hot or int)\n",
    "    hidden_state_t,   # 해당 시점의 RNN hidden state\n",
    "    timestepᵢ,            # 상대 시간 정보\n",
    "    절대 좌표,  # 학습에 활용하지는 않음\n",
    "    에피소드 번호\n",
    ")\n",
    "\n",
    "def step(self, action):\n",
    "        obs_raw, reward, terminated, truncated, info = super().step(action)\n",
    "\n",
    "        # goal 도달 시 보상/종료\n",
    "        if tuple(self.agent_pos) == self.goal_pos:\n",
    "            reward     = 1.0\n",
    "            terminated = True\n",
    "        else:set_matplotlib_formats\n",
    "            reward     = 0.0\n",
    "\n",
    "        obs = {\n",
    "            \"view\":     obs_raw,\n",
    "            \"timestep\": self.step_count,\n",
    "            \"position\": tuple(self.agent_pos),\n",
    "        }\n",
    "        return obs, reward, terminated, truncated, info\n"
   ]
  }
 ],
 "metadata": {
  "kernelspec": {
   "display_name": "base",
   "language": "python",
   "name": "python3"
  },
  "language_info": {
   "codemirror_mode": {
    "name": "ipython",
    "version": 3
   },
   "file_extension": ".py",
   "mimetype": "text/x-python",
   "name": "python",
   "nbconvert_exporter": "python",
   "pygments_lexer": "ipython3",
   "version": "3.10.9"
  }
 },
 "nbformat": 4,
 "nbformat_minor": 2
}
